{
 "cells": [
  {
   "cell_type": "code",
   "execution_count": 194,
   "metadata": {},
   "outputs": [],
   "source": [
    "from anytree import Node, RenderTree\n",
    "\n",
    "\n",
    "def build_tree(tree):\n",
    "    nodes = {}\n",
    "    for [parent, child] in tree:\n",
    "        if parent == child:\n",
    "            print(\"Answer is False.\")\n",
    "            return nodes\n",
    "        if parent not in nodes:\n",
    "            nodes[parent] = Node(parent)\n",
    "        if child not in nodes:\n",
    "            nodes[child] = Node(child, parent=nodes[parent])\n",
    "        else:\n",
    "            if nodes[child] in nodes[parent].ancestors \\\n",
    "            or nodes[child] in nodes[parent].siblings \\\n",
    "            or nodes[parent] in nodes[child].siblings \\\n",
    "            or nodes[child].parent is not None:\n",
    "                print(\"Answer is False.\")\n",
    "                return nodes\n",
    "            nodes[child].parent = nodes[parent]\n",
    "\n",
    "    roots = find_all_roots(nodes)\n",
    "    if len(roots) > 1:\n",
    "        print(\"Answer is False.\")\n",
    "    \n",
    "    return nodes\n",
    "\n",
    "\n",
    "def find_all_roots(nodes):\n",
    "    roots = set()\n",
    "    for _, node in nodes.items():\n",
    "        if node.root not in roots:\n",
    "            roots.add(node.root)\n",
    "    return roots\n",
    "\n",
    "\n",
    "def visualize(root):\n",
    "    for pre, fill, node in RenderTree(root):\n",
    "        print(\"%s%s\" % (pre, node.name))"
   ]
  },
  {
   "cell_type": "code",
   "execution_count": 195,
   "metadata": {},
   "outputs": [],
   "source": [
    "tree = [[\"Logan\", \"Jack\"]]\n",
    "nodes = build_tree(tree)"
   ]
  },
  {
   "cell_type": "code",
   "execution_count": 178,
   "metadata": {},
   "outputs": [],
   "source": [
    "tree = [[\"Logan\", \"Mike\"], [\"Logan\", \"Jack\"]]\n",
    "nodes = build_tree(tree)"
   ]
  },
  {
   "cell_type": "code",
   "execution_count": 179,
   "metadata": {},
   "outputs": [],
   "source": [
    "tree = [[\"Logan\", \"Mike\"], [\"Logan\", \"Jack\"], [\"Mike\", \"Alexander\"]]\n",
    "nodes = build_tree(tree)"
   ]
  },
  {
   "cell_type": "code",
   "execution_count": 180,
   "metadata": {},
   "outputs": [
    {
     "name": "stdout",
     "output_type": "stream",
     "text": [
      "Answer is False.\n"
     ]
    }
   ],
   "source": [
    "tree = [[\"Logan\", \"Mike\"], [\"Logan\", \"Jack\"], [\"Mike\", \"Logan\"]]\n",
    "nodes = build_tree(tree)"
   ]
  },
  {
   "cell_type": "code",
   "execution_count": 181,
   "metadata": {},
   "outputs": [
    {
     "name": "stdout",
     "output_type": "stream",
     "text": [
      "Answer is False.\n"
     ]
    }
   ],
   "source": [
    "tree = [[\"Logan\", \"Mike\"], [\"Logan\", \"Jack\"], [\"Mike\", \"Jack\"]]\n",
    "nodes = build_tree(tree)"
   ]
  },
  {
   "cell_type": "code",
   "execution_count": 182,
   "metadata": {},
   "outputs": [
    {
     "name": "stdout",
     "output_type": "stream",
     "text": [
      "Answer is False.\n"
     ]
    }
   ],
   "source": [
    "tree = [[\"Logan\", \"William\"], [\"Logan\", \"Jack\"], [\"Mike\", \"Alexander\"]]\n",
    "nodes = build_tree(tree)"
   ]
  },
  {
   "cell_type": "code",
   "execution_count": 183,
   "metadata": {},
   "outputs": [
    {
     "name": "stdout",
     "output_type": "stream",
     "text": [
      "Answer is False.\n"
     ]
    }
   ],
   "source": [
    "tree = [[\"Jack\", \"Mike\"], [\"Logan\", \"Mike\"], [\"Logan\", \"Jack\"]]\n",
    "nodes = build_tree(tree)"
   ]
  },
  {
   "cell_type": "code",
   "execution_count": 185,
   "metadata": {},
   "outputs": [
    {
     "name": "stdout",
     "output_type": "stream",
     "text": [
      "Answer is False.\n"
     ]
    }
   ],
   "source": [
    "tree = [['Logan', 'William'], ['Logan', 'Jack'], ['Mike', 'Mike']]\n",
    "nodes = build_tree(tree)"
   ]
  },
  {
   "cell_type": "code",
   "execution_count": 196,
   "metadata": {},
   "outputs": [
    {
     "name": "stdout",
     "output_type": "stream",
     "text": [
      "Logan\n",
      "└── William\n",
      "    └── Jack\n",
      "        └── Mike\n",
      "            └── Alexander\n"
     ]
    }
   ],
   "source": [
    "tree = [['Logan', 'William'], ['William', 'Jack'], ['Jack', 'Mike'], ['Mike', 'Alexander']]\n",
    "nodes = build_tree(tree)\n",
    "visualize(find_all_roots(nodes).pop())"
   ]
  },
  {
   "cell_type": "code",
   "execution_count": 197,
   "metadata": {},
   "outputs": [
    {
     "name": "stdout",
     "output_type": "stream",
     "text": [
      "Answer is False.\n"
     ]
    }
   ],
   "source": [
    "tree = [['Logan', 'William'], ['Mike', 'Alexander'], ['William', 'Alexander']]\n",
    "nodes = build_tree(tree)"
   ]
  },
  {
   "cell_type": "code",
   "execution_count": 198,
   "metadata": {},
   "outputs": [
    {
     "name": "stdout",
     "output_type": "stream",
     "text": [
      "Answer is False.\n"
     ]
    }
   ],
   "source": [
    "tree = [['Logan', 'Mike'], ['Alexander', 'Jack'], ['Jack', 'Alexander']]\n",
    "nodes = build_tree(tree)"
   ]
  },
  {
   "cell_type": "code",
   "execution_count": 199,
   "metadata": {},
   "outputs": [],
   "source": [
    "tree = [['Logan', 'Mike'], ['Alexander', 'Jack'], ['Jack', 'Logan']]\n",
    "nodes = build_tree(tree)"
   ]
  }
 ],
 "metadata": {
  "kernelspec": {
   "display_name": "venv",
   "language": "python",
   "name": "python3"
  },
  "language_info": {
   "codemirror_mode": {
    "name": "ipython",
    "version": 3
   },
   "file_extension": ".py",
   "mimetype": "text/x-python",
   "name": "python",
   "nbconvert_exporter": "python",
   "pygments_lexer": "ipython3",
   "version": "3.12.0"
  }
 },
 "nbformat": 4,
 "nbformat_minor": 2
}
